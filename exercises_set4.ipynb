{
 "cells": [
  {
   "cell_type": "code",
   "execution_count": 10,
   "metadata": {},
   "outputs": [
    {
     "name": "stdout",
     "output_type": "stream",
     "text": [
      "26\n",
      "10\n"
     ]
    }
   ],
   "source": [
    "#Set4\n",
    "#1 population(initial population), percent, newcomers, target (population to surpass)\n",
    "\n",
    "def number_of_years (popl,percent, new, target):\n",
    "   num=popl+popl*percent/100+new\n",
    "   population=popl\n",
    "   i=0\n",
    "   while population<target:\n",
    "      population+=population*percent/100+new\n",
    "      i+=1\n",
    "   print(i)\n",
    "                                  \n",
    "                                                            \n",
    "number_of_years(1500, 5, 100, 10000) # 26\n",
    "number_of_years(1500000, 2.5, 10000, 2000000) # 10"
   ]
  },
  {
   "cell_type": "code",
   "execution_count": null,
   "metadata": {},
   "outputs": [],
   "source": [
    "#2"
   ]
  }
 ],
 "metadata": {
  "kernelspec": {
   "display_name": "base",
   "language": "python",
   "name": "python3"
  },
  "language_info": {
   "codemirror_mode": {
    "name": "ipython",
    "version": 3
   },
   "file_extension": ".py",
   "mimetype": "text/x-python",
   "name": "python",
   "nbconvert_exporter": "python",
   "pygments_lexer": "ipython3",
   "version": "3.11.5"
  }
 },
 "nbformat": 4,
 "nbformat_minor": 2
}
