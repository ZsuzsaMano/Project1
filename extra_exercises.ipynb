{
 "cells": [
  {
   "cell_type": "code",
   "execution_count": 2,
   "metadata": {},
   "outputs": [
    {
     "name": "stdout",
     "output_type": "stream",
     "text": [
      "[24, 28, 18, 13, 16, 17, 29, 27, 44, 15]\n"
     ]
    }
   ],
   "source": [
    "#Q1\n",
    "\n",
    "years=[1999, 1995, 2005, 2010, 2007, 2006, 1994, 1996, 1979, 2008]\n",
    "\n",
    "from datetime import date\n",
    "\n",
    "today = date.today()\n",
    "year=today.year\n",
    "\n",
    "ages=[]\n",
    "\n",
    "for i in years:\n",
    "    ages.append(year-i)\n",
    "\n",
    "print(ages)"
   ]
  },
  {
   "cell_type": "code",
   "execution_count": 3,
   "metadata": {},
   "outputs": [
    {
     "name": "stdout",
     "output_type": "stream",
     "text": [
      "[15, 16, 17, 18, 24, 27, 28, 29]\n"
     ]
    }
   ],
   "source": [
    "#Q2 The task is to write a function that removes the outliers (the oldest and youngestperson's age)\n",
    "\n",
    "def remove_min_max (list):\n",
    "    list.sort()\n",
    "\n",
    "    list.pop(0)\n",
    "    list.pop(-1)\n",
    "    print(list)\n",
    "\n",
    "remove_min_max(ages)\n"
   ]
  },
  {
   "cell_type": "code",
   "execution_count": 5,
   "metadata": {},
   "outputs": [
    {
     "name": "stdout",
     "output_type": "stream",
     "text": [
      "{10, 13, 15, 16, 18, 19}\n"
     ]
    }
   ],
   "source": [
    "#Q3\n",
    "\n",
    "berlin = [15, 13, 16, 18, 19, 10, 12 ]\n",
    "munich = [7, 13, 15, 20, 19, 18, 10, 16]\n",
    "\n",
    "def common_numbers(list1,list2):\n",
    "    set1=set(list1)\n",
    "    set2=set(list2)\n",
    "\n",
    "    \n",
    "    if (set1 & set2):\n",
    "        print(set1 & set2)\n",
    "    else:\n",
    "        print(\"No common elements\") \n",
    "\n",
    "common_numbers(munich,berlin)\n",
    "    "
   ]
  },
  {
   "cell_type": "code",
   "execution_count": null,
   "metadata": {},
   "outputs": [],
   "source": [
    "#Q4, Q5 also duplicate from exercises, will continue with intermediate"
   ]
  },
  {
   "cell_type": "code",
   "execution_count": 8,
   "metadata": {},
   "outputs": [
    {
     "name": "stdout",
     "output_type": "stream",
     "text": [
      "11\n",
      "160\n"
     ]
    }
   ],
   "source": [
    "#Set1\n",
    "#1\n",
    "\n",
    "even=[2, 4, 0, 100, 4, 11, 2602, 36]\n",
    "odd= [160, 3, 1719, 19, 11, 13, -21]\n",
    "\n",
    "def find_outier(list):\n",
    "    new_list=[]\n",
    "    for i in list:\n",
    "        if i%2==0:\n",
    "            new_list.append(i)\n",
    "    if len(new_list)==1:\n",
    "        print(new_list[0])\n",
    "    else:\n",
    "        for i in list:\n",
    "            if i%2==1:\n",
    "                print(i)\n",
    "\n",
    "find_outier(even)\n",
    "find_outier(odd)\n",
    "\n"
   ]
  },
  {
   "cell_type": "code",
   "execution_count": 12,
   "metadata": {},
   "outputs": [
    {
     "name": "stdout",
     "output_type": "stream",
     "text": [
      "[1]\n",
      "[3, 4, 5]\n"
     ]
    }
   ],
   "source": [
    "#2\n",
    "\n",
    "def array_diff (list1, list2):\n",
    "    '''remove list2 items from list1'''\n",
    "  \n",
    "    for i in list2:\n",
    "          while i in list1:\n",
    "            list1.remove(i)\n",
    "    print(list1)\n",
    "\n",
    "a = [1,2,2]\n",
    "b = [2]\n",
    "\n",
    "c=[1,3,4,5]\n",
    "\n",
    "array_diff(a,b)\n",
    "array_diff(c,a)"
   ]
  },
  {
   "cell_type": "code",
   "execution_count": 14,
   "metadata": {},
   "outputs": [
    {
     "name": "stdout",
     "output_type": "stream",
     "text": [
      "Bart, Lisa & Maggie\n"
     ]
    }
   ],
   "source": [
    "#3\n",
    "\n",
    "names= [ {'name': 'Bart'}, {'name': 'Lisa'}, {'name': 'Maggie'} ]\n",
    "\n",
    "def names_list(list):\n",
    "    i=0\n",
    "    while i < len(list)-2:\n",
    "        print(names[i]['name'], end=', ')\n",
    "        i+=1\n",
    "    print(f\"{names[-2]['name']} & {names[-1]['name']}\")\n",
    "\n",
    "\n",
    "names_list(names)\n",
    "\n"
   ]
  },
  {
   "cell_type": "code",
   "execution_count": 17,
   "metadata": {},
   "outputs": [
    {
     "name": "stdout",
     "output_type": "stream",
     "text": [
      "[1, 2, 123]\n"
     ]
    }
   ],
   "source": [
    "#4\n",
    "\n",
    "test1= [1,2,'aasf','1','123',123]\n",
    "\n",
    "def filter_list(list):\n",
    "    new_list=[]\n",
    "    for i in list:\n",
    "        if type(i)==int:\n",
    "            new_list.append(i)\n",
    "    print(new_list)\n",
    "\n",
    "\n",
    "filter_list(test1)"
   ]
  },
  {
   "cell_type": "code",
   "execution_count": null,
   "metadata": {},
   "outputs": [],
   "source": [
    "#5"
   ]
  }
 ],
 "metadata": {
  "kernelspec": {
   "display_name": "base",
   "language": "python",
   "name": "python3"
  },
  "language_info": {
   "codemirror_mode": {
    "name": "ipython",
    "version": 3
   },
   "file_extension": ".py",
   "mimetype": "text/x-python",
   "name": "python",
   "nbconvert_exporter": "python",
   "pygments_lexer": "ipython3",
   "version": "3.11.5"
  }
 },
 "nbformat": 4,
 "nbformat_minor": 2
}
