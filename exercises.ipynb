{
 "cells": [
  {
   "cell_type": "code",
   "execution_count": 3,
   "metadata": {},
   "outputs": [
    {
     "data": {
      "text/plain": [
       "'Zsuzsa'"
      ]
     },
     "execution_count": 3,
     "metadata": {},
     "output_type": "execute_result"
    }
   ],
   "source": [
    "#1\n",
    "my_name='Zsuzsa'\n",
    "my_name\n"
   ]
  },
  {
   "cell_type": "code",
   "execution_count": 4,
   "metadata": {},
   "outputs": [
    {
     "data": {
      "text/plain": [
       "21"
      ]
     },
     "execution_count": 4,
     "metadata": {},
     "output_type": "execute_result"
    }
   ],
   "source": [
    "#2\n",
    "age=21\n",
    "age"
   ]
  },
  {
   "cell_type": "code",
   "execution_count": 5,
   "metadata": {},
   "outputs": [
    {
     "data": {
      "text/plain": [
       "-11"
      ]
     },
     "execution_count": 5,
     "metadata": {},
     "output_type": "execute_result"
    }
   ],
   "source": [
    "#3\n",
    "julia_age=32\n",
    "age_diff=age-julia_age\n",
    "age_diff"
   ]
  },
  {
   "cell_type": "code",
   "execution_count": 6,
   "metadata": {},
   "outputs": [
    {
     "name": "stdout",
     "output_type": "stream",
     "text": [
      "You are not older than 21\n"
     ]
    }
   ],
   "source": [
    "#4\n",
    "older=\"You are older than 21\"\n",
    "younger= \"You are not older than 21\"\n",
    "if age > 21:  print(older)\n",
    "else: print(younger)"
   ]
  },
  {
   "cell_type": "code",
   "execution_count": 7,
   "metadata": {},
   "outputs": [
    {
     "name": "stdout",
     "output_type": "stream",
     "text": [
      "Julia is older than you\n"
     ]
    }
   ],
   "source": [
    "#5\n",
    "Julia_older= 'Julia is older than you'\n",
    "Julia_younger='Julia is younger than you'\n",
    "Julia_same='You have the same age as Julia'\n",
    "\n",
    "if age == julia_age:  print(Julia_same)\n",
    "elif age > julia_age: print(Julia_younger)\n",
    "else: print(Julia_older)\n"
   ]
  },
  {
   "cell_type": "code",
   "execution_count": 8,
   "metadata": {},
   "outputs": [
    {
     "name": "stdout",
     "output_type": "stream",
     "text": [
      "['Arjun', 'Bial', 'Killian', 'Muajad', 'Zsuzsa']\n",
      "Arjun\n",
      "Zsuzsa\n",
      "Arjun\n",
      "Bial\n",
      "Killian\n",
      "Muajad\n",
      "Zsuzsa\n"
     ]
    }
   ],
   "source": [
    "#6\n",
    "\n",
    "raccoon= ['Zsuzsa', 'Bial', 'Killian', 'Arjun', 'Muajad']\n",
    "raccoon.sort()\n",
    "print(raccoon)\n",
    "\n",
    "first=raccoon[0]\n",
    "print(first)\n",
    "\n",
    "last=raccoon[-1]\n",
    "print(last)\n",
    "\n",
    "# print all with for loop\n",
    "for i in raccoon: print(i)\n",
    "\n"
   ]
  },
  {
   "cell_type": "code",
   "execution_count": 21,
   "metadata": {},
   "outputs": [
    {
     "name": "stdout",
     "output_type": "stream",
     "text": [
      "45,26,23,45,67,26\n",
      "45,26,23,45,67,"
     ]
    }
   ],
   "source": [
    "#7 Iterate through the list using a for loop, and then print every age, then only the even numbers \n",
    "#Then do the same using a while loop.\n",
    "\n",
    "raccoon= [45, 26, 23, 45, 67]\n",
    "\n",
    "for i in raccoon:\n",
    "    print(i, end=',')\n",
    "\n",
    "for i in raccoon:\n",
    "    if i%2== 0:\n",
    "     print(i)\n",
    "\n",
    "i=0\n",
    "n=len(raccoon)\n",
    "\n",
    "while i<n:\n",
    " print(raccoon[i],end=',')\n",
    " i+=1\n",
    "\n",
    " \n"
   ]
  },
  {
   "cell_type": "code",
   "execution_count": 22,
   "metadata": {},
   "outputs": [
    {
     "name": "stdout",
     "output_type": "stream",
     "text": [
      "lowest num: 7\n",
      "highest num: 67\n"
     ]
    }
   ],
   "source": [
    "#8Write a list containing numbers and print the lowest number.\n",
    "\n",
    "nums= [45, 26, 23, 45, 67, 7]\n",
    "\n",
    "sorted= nums.sort()\n",
    "print('lowest num:', nums[0])\n",
    "\n",
    "#Write a list containing numbers and print the highest number.\n",
    "\n",
    "print('highest num:', nums[-1])\n"
   ]
  },
  {
   "cell_type": "code",
   "execution_count": null,
   "metadata": {},
   "outputs": [],
   "source": [
    "#10"
   ]
  }
 ],
 "metadata": {
  "kernelspec": {
   "display_name": "Python 3",
   "language": "python",
   "name": "python3"
  },
  "language_info": {
   "codemirror_mode": {
    "name": "ipython",
    "version": 3
   },
   "file_extension": ".py",
   "mimetype": "text/x-python",
   "name": "python",
   "nbconvert_exporter": "python",
   "pygments_lexer": "ipython3",
   "version": "3.11.5"
  }
 },
 "nbformat": 4,
 "nbformat_minor": 2
}
