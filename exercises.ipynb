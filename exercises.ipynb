{
 "cells": [
  {
   "cell_type": "code",
   "execution_count": 23,
   "metadata": {},
   "outputs": [
    {
     "data": {
      "text/plain": [
       "'Zsuzsa'"
      ]
     },
     "execution_count": 23,
     "metadata": {},
     "output_type": "execute_result"
    }
   ],
   "source": [
    "#1\n",
    "my_name='Zsuzsa'\n",
    "my_name\n"
   ]
  },
  {
   "cell_type": "code",
   "execution_count": 24,
   "metadata": {},
   "outputs": [
    {
     "data": {
      "text/plain": [
       "21"
      ]
     },
     "execution_count": 24,
     "metadata": {},
     "output_type": "execute_result"
    }
   ],
   "source": [
    "#2\n",
    "age=21\n",
    "age"
   ]
  },
  {
   "cell_type": "code",
   "execution_count": 25,
   "metadata": {},
   "outputs": [
    {
     "data": {
      "text/plain": [
       "-11"
      ]
     },
     "execution_count": 25,
     "metadata": {},
     "output_type": "execute_result"
    }
   ],
   "source": [
    "#3\n",
    "julia_age=32\n",
    "age_diff=age-julia_age\n",
    "age_diff"
   ]
  },
  {
   "cell_type": "code",
   "execution_count": 26,
   "metadata": {},
   "outputs": [
    {
     "name": "stdout",
     "output_type": "stream",
     "text": [
      "You are not older than 21\n"
     ]
    }
   ],
   "source": [
    "#4\n",
    "older=\"You are older than 21\"\n",
    "younger= \"You are not older than 21\"\n",
    "if age > 21:  print(older)\n",
    "else: print(younger)"
   ]
  },
  {
   "cell_type": "code",
   "execution_count": 27,
   "metadata": {},
   "outputs": [
    {
     "name": "stdout",
     "output_type": "stream",
     "text": [
      "Julia is older than you\n"
     ]
    }
   ],
   "source": [
    "#5\n",
    "Julia_older= 'Julia is older than you'\n",
    "Julia_younger='Julia is younger than you'\n",
    "Julia_same='You have the same age as Julia'\n",
    "\n",
    "if age == julia_age:  print(Julia_same)\n",
    "elif age > julia_age: print(Julia_younger)\n",
    "else: print(Julia_older)\n"
   ]
  },
  {
   "cell_type": "code",
   "execution_count": 28,
   "metadata": {},
   "outputs": [
    {
     "name": "stdout",
     "output_type": "stream",
     "text": [
      "['Arjun', 'Bial', 'Killian', 'Muajad', 'Zsuzsa']\n",
      "Arjun\n",
      "Zsuzsa\n",
      "Arjun\n",
      "Bial\n",
      "Killian\n",
      "Muajad\n",
      "Zsuzsa\n"
     ]
    }
   ],
   "source": [
    "#6\n",
    "\n",
    "raccoon= ['Zsuzsa', 'Bial', 'Killian', 'Arjun', 'Muajad']\n",
    "raccoon.sort()\n",
    "print(raccoon)\n",
    "\n",
    "first=raccoon[0]\n",
    "print(first)\n",
    "\n",
    "last=raccoon[-1]\n",
    "print(last)\n",
    "\n",
    "# print all with for loop\n",
    "for i in raccoon: print(i)\n",
    "\n"
   ]
  },
  {
   "cell_type": "code",
   "execution_count": 29,
   "metadata": {},
   "outputs": [
    {
     "name": "stdout",
     "output_type": "stream",
     "text": [
      "45,26,23,45,67,26\n",
      "45,26,23,45,67,"
     ]
    }
   ],
   "source": [
    "#7 Iterate through the list using a for loop, and then print every age, then only the even numbers \n",
    "#Then do the same using a while loop.\n",
    "\n",
    "raccoon= [45, 26, 23, 45, 67]\n",
    "\n",
    "for i in raccoon:\n",
    "    print(i, end=',')\n",
    "\n",
    "for i in raccoon:\n",
    "    if i%2== 0:\n",
    "     print(i)\n",
    "\n",
    "i=0\n",
    "n=len(raccoon)\n",
    "\n",
    "while i<n:\n",
    " print(raccoon[i],end=',')\n",
    " i+=1\n",
    "\n",
    " \n"
   ]
  },
  {
   "cell_type": "code",
   "execution_count": 30,
   "metadata": {},
   "outputs": [
    {
     "name": "stdout",
     "output_type": "stream",
     "text": [
      "lowest num: 7\n",
      "highest num: 67\n"
     ]
    }
   ],
   "source": [
    "#8Write a list containing numbers and print the lowest number.\n",
    "\n",
    "nums= [45, 26, 23, 45, 67, 7]\n",
    "\n",
    "sorted= nums.sort()\n",
    "print('lowest num:', nums[0])\n",
    "\n",
    "#Write a list containing numbers and print the highest number.\n",
    "\n",
    "print('highest num:', nums[-1])\n"
   ]
  },
  {
   "cell_type": "code",
   "execution_count": 38,
   "metadata": {},
   "outputs": [
    {
     "name": "stdout",
     "output_type": "stream",
     "text": [
      "24,28,18,13,16,17,29,27,44,15,"
     ]
    }
   ],
   "source": [
    "#10 Use a loop to iterate over the list and print the age of each customer.\n",
    "from datetime import date\n",
    "\n",
    "today = date.today()\n",
    "year=today.year\n",
    "\n",
    "\n",
    "years=[1999, 1995, 2005, 2010, 2007, 2006, 1994, 1996, 1979, 2008]\n",
    "\n",
    "for i in years:\n",
    "    print(year-i, end=',')"
   ]
  },
  {
   "cell_type": "code",
   "execution_count": 51,
   "metadata": {},
   "outputs": [
    {
     "name": "stdout",
     "output_type": "stream",
     "text": [
      "Bob is 1999 years old\n",
      "Jack is 1995 years old\n",
      "Lisa is 2005 years old\n",
      "Maria is 2010 years old\n",
      "Ben is 2007 years old\n",
      "Emma is 2006 years old\n",
      "Oscar is 1994 years old\n",
      "Amy is 1996 years old\n",
      "Paul is 1979 years old\n",
      "Etta is 2008 years old\n"
     ]
    }
   ],
   "source": [
    "#11  \"customer_name is customer_age years old\".\n",
    "customer_list = [\n",
    "                    {\"name\": \"Bob\", \"age\": 1999},\n",
    "                    {\"name\": \"Jack\", \"age\": 1995},\n",
    "                    {\"name\": \"Lisa\", \"age\": 2005},\n",
    "                    {\"name\": \"Maria\", \"age\": 2010},\n",
    "                    {\"name\": \"Ben\", \"age\": 2007},\n",
    "                    {\"name\": \"Emma\", \"age\": 2006},\n",
    "                    {\"name\": \"Oscar\", \"age\": 1994},\n",
    "                    {\"name\": \"Amy\", \"age\": 1996},\n",
    "                    {\"name\": \"Paul\", \"age\": 1979},\n",
    "                    {\"name\": \"Etta\", \"age\": 2008}\n",
    "                ]\n",
    "\n",
    "def customer_age (list):\n",
    "    for i in list:\n",
    "        print(f\"{i['name']} is {i['age']} years old\")\n",
    "\n",
    "customer_age(customer_list)"
   ]
  },
  {
   "cell_type": "code",
   "execution_count": 53,
   "metadata": {},
   "outputs": [
    {
     "data": {
      "text/plain": [
       "[11, 12, 13, 14, 20, 23, 24, 25]"
      ]
     },
     "execution_count": 53,
     "metadata": {},
     "output_type": "execute_result"
    }
   ],
   "source": [
    "#12 Given a list of ages, remove the youngest and the oldest person.\n",
    "\n",
    "ages = [20, 24, 14, 9, 12, 13, 25, 23, 40, 11]\n",
    "\n",
    "ages.sort()\n",
    "\n",
    "ages.pop(0)\n",
    "ages.pop(-1)\n",
    "\n",
    "ages"
   ]
  }
 ],
 "metadata": {
  "kernelspec": {
   "display_name": "Python 3",
   "language": "python",
   "name": "python3"
  },
  "language_info": {
   "codemirror_mode": {
    "name": "ipython",
    "version": 3
   },
   "file_extension": ".py",
   "mimetype": "text/x-python",
   "name": "python",
   "nbconvert_exporter": "python",
   "pygments_lexer": "ipython3",
   "version": "3.10.12"
  }
 },
 "nbformat": 4,
 "nbformat_minor": 2
}
