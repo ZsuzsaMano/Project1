{
 "cells": [
  {
   "cell_type": "code",
   "execution_count": 68,
   "metadata": {},
   "outputs": [
    {
     "name": "stdout",
     "output_type": "stream",
     "text": [
      "[4, 7, 5, 4, 4, 3, 5, 7]\n",
      "[(11, 0), (12, 1)]\n",
      "abigailthetaform\n",
      "[4, 7, 5, 4, 4, 3, 5, 7]\n",
      "[(16, 0)]\n",
      "zoneabigailtheta\n",
      "nop\n",
      "nop\n",
      "nop\n"
     ]
    }
   ],
   "source": [
    "#Set3\n",
    "#1\n",
    "def longest_consec(lst, num):\n",
    "    l=len(lst)\n",
    "    if l == 0 or num > l or num <= 0:\n",
    "        print('')\n",
    "    else:\n",
    "        #create an array with the lenght of the words\n",
    "        words_len=list(map(len,lst))\n",
    "        print(words_len)\n",
    "        i=0\n",
    "        sums_list=[]\n",
    "        # add to sums_list if the sum of num consecuent bigger than previous sum\n",
    "        while i<len(words_len)-1:\n",
    "            sum_consec=sum(words_len[slice(i,i+num)])\n",
    "            if len(sums_list)==0 or (sums_list[-1][0] < sum_consec):     \n",
    "                sums_list.append((sum_consec,i))\n",
    "                i+=1\n",
    "            else:\n",
    "                i+=1\n",
    "                continue\n",
    "        print(sums_list)\n",
    "        # get the index of longest sequence\n",
    "        longest_sequence_index=sums_list[-1][1]\n",
    "        #cut out the longest sequence\n",
    "        slice_words=lst[slice(longest_sequence_index, longest_sequence_index+3)]\n",
    "        print(''.join(slice_words))\n",
    "        \n",
    "            \n",
    "\n",
    "\n",
    "\n",
    "\n",
    "\n",
    "\n",
    "longest_consec([\"zone\", \"abigail\", \"theta\", \"form\", \"libe\", \"zas\", \"theta\", \"abigail\"],2) \n",
    "longest_consec([\"zone\", \"abigail\", \"theta\", \"form\", \"libe\", \"zas\", \"theta\", \"abigail\"],3) \n",
    "longest_consec([\"zone\", \"abigail\"],3) \n",
    "longest_consec([],3) \n",
    "longest_consec([\"zone\", \"abigail\"],0) \n",
    "\n",
    "\n",
    "\n"
   ]
  },
  {
   "cell_type": "code",
   "execution_count": 69,
   "metadata": {},
   "outputs": [
    {
     "name": "stdout",
     "output_type": "stream",
     "text": [
      "[3, 2, 1, 3, 2, 1]\n",
      "[1, 1]\n",
      "[21, 37, 20]\n"
     ]
    }
   ],
   "source": [
    "#2\n",
    "\n",
    "def delete_nth(lst, n):\n",
    "    lst.reverse()\n",
    "    for i in lst:\n",
    "        #count occurance and remove if too many\n",
    "        count_i=lst.count(i)\n",
    "        if count_i>n:\n",
    "                 lst.remove(i)\n",
    "    print(lst)\n",
    "\n",
    "\n",
    "delete_nth([1,2,3,1,2,1,2,3],2) #[1,2,3,1,2,3]\n",
    "delete_nth([1,1,1,1],2) # return [1,1]\n",
    "delete_nth([20,37,20,21],1) # return [20,37,21]"
   ]
  },
  {
   "cell_type": "code",
   "execution_count": 70,
   "metadata": {},
   "outputs": [
    {
     "name": "stdout",
     "output_type": "stream",
     "text": [
      "[20, 8, 5, 19, 21, 14, 19, 5, 20, 19, 5, 20, 19, 1, 20, 20, 23, 5, 12, 22, 5, 15, 3, 12, 15, 3, 11]\n"
     ]
    }
   ],
   "source": [
    "#3\n",
    "def alphabet_position(str):\n",
    "    listed=list(str.lower())\n",
    "    abc=['a','b','c','d','e','f','g','h','i','j','k','l','m','n','o','p','q','r','s','t','u','v','w','x','y','z']\n",
    "    #get rid of al that is not part of abc\n",
    "    filtered=list(filter(lambda i:i in abc, listed))\n",
    "    #replace letters with position in abc\n",
    "    numbered=list(map(lambda i:abc.index(i)+1,filtered))\n",
    "    print(numbered)\n",
    "\n",
    "\n",
    "alphabet_position(\"The sunset sets at twelve o' clock.\")"
   ]
  },
  {
   "cell_type": "code",
   "execution_count": 71,
   "metadata": {},
   "outputs": [
    {
     "name": "stdout",
     "output_type": "stream",
     "text": [
      "3\n",
      "2\n"
     ]
    }
   ],
   "source": [
    "#4 \n",
    "\n",
    "def iq_test(strg):\n",
    "    splited=strg.split(' ')\n",
    "    #filter out all that is not even number\n",
    "    is_even=list(filter(lambda x:int(x)%2==0, splited))\n",
    "    #if only one rest, that is the one we need\n",
    "    if len(is_even)==1:\n",
    "        #check for it's position\n",
    "        print(splited.index(is_even[0])+1)\n",
    "    else:\n",
    "        #remove all even num from list\n",
    "        rest=set(splited)-set(is_even)\n",
    "        string=''.join(rest)\n",
    "        print(splited.index(string)+1)\n",
    "       \n",
    "        \n",
    "\n",
    "iq_test('2 4 7 8 10') # 3 // Third number is odd, while the rest of the numbers are even\n",
    "iq_test('1 2 1 1')  # 2 // Second number is even, while the rest of the numbers are odd"
   ]
  },
  {
   "cell_type": "code",
   "execution_count": 87,
   "metadata": {},
   "outputs": [
    {
     "name": "stdout",
     "output_type": "stream",
     "text": [
      "True\n",
      "True\n",
      "False\n"
     ]
    }
   ],
   "source": [
    "#5\n",
    "def scramble(str1,str2):\n",
    "    list1=[*str1]\n",
    "    list2=[*str2]\n",
    "    answer=True\n",
    "    for i in list2:\n",
    "        if i in list1:\n",
    "            list1.remove(i)\n",
    "        else:\n",
    "            answer=False\n",
    "            break\n",
    "    print(answer)\n",
    "    \n",
    "\n",
    "    \n",
    "\n",
    "\n",
    "scramble('rkqodlw', 'world') # True\n",
    "scramble('cedewaraaossoqqyt', 'codewars') # True\n",
    "scramble('katas', 'steak') #False"
   ]
  },
  {
   "cell_type": "code",
   "execution_count": 88,
   "metadata": {},
   "outputs": [
    {
     "name": "stdout",
     "output_type": "stream",
     "text": [
      "1\n"
     ]
    }
   ],
   "source": [
    "#6\n",
    "def maxSequence(lst):\n",
    "    print(sum(lst))\n",
    "\n",
    "maxSequence([-2, 1, -3, 4, -1, 2, 1, -5, 4])"
   ]
  }
 ],
 "metadata": {
  "kernelspec": {
   "display_name": "base",
   "language": "python",
   "name": "python3"
  },
  "language_info": {
   "codemirror_mode": {
    "name": "ipython",
    "version": 3
   },
   "file_extension": ".py",
   "mimetype": "text/x-python",
   "name": "python",
   "nbconvert_exporter": "python",
   "pygments_lexer": "ipython3",
   "version": "3.11.5"
  }
 },
 "nbformat": 4,
 "nbformat_minor": 2
}
