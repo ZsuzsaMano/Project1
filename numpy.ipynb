{
 "cells": [
  {
   "cell_type": "code",
   "execution_count": 46,
   "metadata": {},
   "outputs": [
    {
     "name": "stdout",
     "output_type": "stream",
     "text": [
      "59.2\n",
      "manual: 7.694153624668538\n",
      "<class 'numpy.ndarray'>\n",
      "without ddof: 6.881860213634101\n",
      "with ddof: 7.694153624668538\n"
     ]
    }
   ],
   "source": [
    "#1 What is the standard deviation? \n",
    "#sum of deviations of individual data points from their mean?\n",
    "set_1=(8, 12, 16, 24, 4)\n",
    "\n",
    "#(mostly) MANUAL solution:\n",
    "\n",
    "#num of items in set\n",
    "n_set_1= len(set_1)\n",
    "\n",
    "#mean of set\n",
    "mean_set_1=(8+12+16+24+4)/n_set_1\n",
    "\n",
    "#variance\n",
    "variance=((set_1[0]-mean_set_1)**2+(set_1[1]-mean_set_1)**2+(set_1[2]-mean_set_1)**2+(set_1[3]-mean_set_1)**2+(set_1[4]-mean_set_1)**2)/(n_set_1-1)\n",
    "\n",
    "print(variance)\n",
    "\n",
    "#standard deviation\n",
    "import math\n",
    "\n",
    "sd_set_1=math.sqrt(variance)\n",
    "\n",
    "print('manual:',sd_set_1)\n",
    "\n",
    "#NUMPY solution:\n",
    "import numpy as np\n",
    "\n",
    "#create np array from set\n",
    "set_np=np.array([8, 12, 16, 24, 4])\n",
    "print(type(set_np))\n",
    "\n",
    "sd_np=np.std(set_np)  \n",
    "sd_np_2=np.std(set_np, ddof=1)  \n",
    "\n",
    "print('without ddof:',sd_np)\n",
    "print('with ddof:',sd_np_2)\n"
   ]
  },
  {
   "cell_type": "code",
   "execution_count": 47,
   "metadata": {},
   "outputs": [
    {
     "name": "stdout",
     "output_type": "stream",
     "text": [
      "rel high outlier 45.51226940800323\n",
      "rel low outlier 8.40039681602403\n"
     ]
    }
   ],
   "source": [
    "#2\n",
    "#If some outliers are introduced to the dataset, what will happen to the Standard Deviation?\n",
    "\n",
    "\n",
    "set_np_2=np.array([8, 12, 16, 24, 4, 123])\n",
    "sd_np_2=np.std(set_np_2, ddof=1)  \n",
    "\n",
    "print('rel high outlier', sd_np_2)\n",
    "\n",
    "set_np_3=np.array([8, 12, 16, 24, 4, 1])\n",
    "sd_np_3=np.std(set_np_3, ddof=1)  \n",
    "\n",
    "print('rel low outlier', sd_np_3)\n",
    "\n",
    "# conclusion, outliner will always increase Standard Deviation\n"
   ]
  },
  {
   "cell_type": "markdown",
   "metadata": {},
   "source": [
    "3., Suppose the below positively skewed distribution has a median of 30, which of the following statement is true?\n",
    "\n",
    "A) Mean is greater than 30\n",
    "B) Mean is less than 30\n",
    "C) Mode is greater than 30\n",
    "D) Mode is less than 30\n",
    "E) Both A and D\n",
    "F) Both B and C\n",
    "\n",
    "Solution:E"
   ]
  },
  {
   "cell_type": "code",
   "execution_count": 48,
   "metadata": {},
   "outputs": [
    {
     "name": "stdout",
     "output_type": "stream",
     "text": [
      "half of the num of values: 47.5\n",
      "(95,)\n",
      "median: 27.0\n"
     ]
    }
   ],
   "source": [
    "#4 Which value can be the possible value for the median of the below distribution?\n",
    "\n",
    "#MANUAL solution\n",
    "\n",
    "num_values=9+12+17+20+13+10+6+5+3\n",
    "print('half of the num of values:',num_values/2)\n",
    "\n",
    "# the median will be in the 25-30 range\n",
    "\n",
    "#NUMPY solution 1\n",
    "\n",
    "set_np_4=np.array([10, 10, 10, 10, 11, 11, 12, 13, 14 , 15, 15, 15, 16, 16, 16, 16,\n",
    "                    16, 17, 18, 19, 19,20, 20, 20, 21, 21, 21, 21, 21, 22, 22, 22, \n",
    "                    23, 23, 23, 24, 24, 24,26, 26, 26, 26, 26, 26, 26, 27, 27, 27,\n",
    "                    27, 29, 29, 29, 29, 29, 29, 29, 29, 29,30, 30, 30, 30, 30, 31, 31, \n",
    "                    32, 32, 33, 33, 34, 34,35, 35, 35, 37, 37, 37, 37, 39, 39, 39,40, 40,\n",
    "                      43, 43, 44, 44,46, 46, 46, 47, 49,52, 53, 54])\n",
    "\n",
    "print(set_np_4.shape)\n",
    "print('median:' ,np.median(set_np_4))\n",
    "\n",
    "#NUMPY solution 2 how do I flatten this with code? \n",
    "\n",
    "arr=[[10, 10, 10, 10, 11, 11, 12, 13, 14 ],\n",
    "[15, 15, 15, 16, 16, 16, 16, 16, 17, 18, 19, 19],\n",
    "[20, 20, 20, 21, 21, 21, 21, 21, 22, 22, 22, 23, 23, 23, 24, 24, 24],\n",
    "[26, 26, 26, 26, 26, 26, 26, 27, 27, 27, 27, 29, 29, 29, 29, 29, 29, 29, 29, 29],\n",
    "[30, 30, 30, 30, 30, 31, 31, 32, 32, 33, 33, 34, 34],\n",
    "[35, 35, 35, 37, 37, 37, 37, 39, 39, 39],\n",
    "[40, 40, 43, 43, 44, 44],\n",
    "[46, 46, 46, 47, 49],\n",
    "[52, 53, 54]]\n",
    "\n",
    "\n",
    "\n"
   ]
  },
  {
   "cell_type": "markdown",
   "metadata": {},
   "source": [
    "5.,What is the shape of the distribution? (no Numpy)\n",
    "\n",
    "Answer: positive skew\n"
   ]
  },
  {
   "cell_type": "code",
   "execution_count": 49,
   "metadata": {},
   "outputs": [],
   "source": [
    "#6 What would you consider to be the most appropriate measure of the center for this data?\n",
    "\n",
    "# Answer: Median   (should I use Numpy for this?)"
   ]
  },
  {
   "cell_type": "markdown",
   "metadata": {},
   "source": [
    "7., If Y axis represents the number of individuals and X axis – salary of the individual in thousands. How many individuals have salary less than 10 thousands? (no Numpy) \n",
    "\n",
    "Answer: 35"
   ]
  },
  {
   "cell_type": "markdown",
   "metadata": {},
   "source": [
    "8., We have a set of positive numbers. If a single value of the set is altered what must change?\n",
    "\n",
    "A) Mean\n",
    "B) Median\n",
    "C) Mode\n",
    "D) All of these\n",
    "\n",
    "Mean  for sure\n",
    "Mode only if this makes another value the most frequent (very unlikely)\n",
    "Median only if this moves the value to the other side of the original median \n"
   ]
  },
  {
   "cell_type": "code",
   "execution_count": 50,
   "metadata": {},
   "outputs": [
    {
     "name": "stdout",
     "output_type": "stream",
     "text": [
      "median: 28.0\n",
      "mean: 27.913978494623656\n",
      "mode: ModeResult(mode=29, count=9)\n",
      "median mod1: 28.0\n",
      "mean mod1: 27.956989247311828\n",
      "mode mod1: ModeResult(mode=29, count=9)\n",
      "median mod2: 27.0\n",
      "mean mod2: 27.9247311827957\n",
      "mode mod2: ModeResult(mode=26, count=8)\n"
     ]
    }
   ],
   "source": [
    "#8 prove my answers from above (also tweeked arrays to show those edge cases)\n",
    "from scipy import stats as st\n",
    "\n",
    "set_np_5=np.array([10, 10, 10, 10, 11, 11, 12, 13, 14 , 15, 15, 15, 16, 16, 16, 16,\n",
    "                    16, 17, 18, 19, 19,20, 20, 20, 21, 21, 21, 21, 21, 22, 22, 22, \n",
    "                    23, 23, 23, 24, 24, 24,26, 26, 26, 26, 26, 26, 26, \n",
    "                    27, 28,29, 29, 29, 29, 29, 29, 29, 29, 29,30, 30, 30, 30, 30, 31, 31, \n",
    "                    32, 32, 33, 33, 34, 34,35, 35, 35, 37, 37, 37, 37, 39, 39, 39,40, 40,\n",
    "                      43, 43, 44, 44,46, 46, 46, 47, 49,52, 53, 54])\n",
    "\n",
    "print('median:' ,np.median(set_np_5))\n",
    "print('mean:' ,np.mean(set_np_5))\n",
    "print('mode:' ,st.mode(set_np_5))\n",
    "\n",
    "# modified last value +4\n",
    "\n",
    "set_np_mod_1=np.array([10, 10, 10, 10, 11, 11, 12, 13, 14 , 15, 15, 15, 16, 16, 16, 16,\n",
    "                    16, 17, 18, 19, 19,20, 20, 20, 21, 21, 21, 21, 21, 22, 22, 22, \n",
    "                    23, 23, 23, 24, 24, 24,26, 26, 26, 26, 26, 26, 26, \n",
    "                    27, 28, 29, 29, 29, 29, 29, 29, 29,29, 29,30, 30, 30, 30, 30, 31, 31, \n",
    "                    32, 32, 33, 33, 34, 34,35, 35, 35, 37, 37, 37, 37, 39, 39, 39,40, 40,\n",
    "                      43, 43, 44, 44,46, 46, 46, 47, 49,52, 53, 58])\n",
    "\n",
    "print('median mod1:' ,np.median(set_np_mod_1))\n",
    "print('mean mod1:' ,np.mean(set_np_mod_1))\n",
    "print('mode mod1:' ,st.mode(set_np_mod_1))\n",
    "\n",
    "# modified mode value to be on other side of median \n",
    "\n",
    "set_np_mod_2=np.array([10, 10, 10, 10, 11, 11, 12, 13, 14 , 15, 15, 15, 16, 16, 16, 16,\n",
    "                    16, 17, 18, 19, 19,20, 20, 20, 21, 21, 21, 21, 21, 22, 22, 22, \n",
    "                    23, 23, 23, 24, 24, 24,26, 26, 26, 26, 26, 26, 26,  \n",
    "                    27,28, 29, 29, 29, 29, 29, 29, 29,29, 26,30, 30, 30, 30, 30, 31, 31, \n",
    "                    32, 32, 33, 33, 34, 34,35, 35, 35, 37, 37, 37, 37, 39, 39, 39,40, 40,\n",
    "                      43, 43, 44, 44,46, 46, 46, 47, 49,52, 53, 58])\n",
    "\n",
    "print('median mod2:' ,np.median(set_np_mod_2))\n",
    "print('mean mod2:' ,np.mean(set_np_mod_2))\n",
    "print('mode mod2:' ,st.mode(set_np_mod_2))\n",
    "\n",
    "\n",
    "\n"
   ]
  },
  {
   "cell_type": "markdown",
   "metadata": {},
   "source": [
    "9, The chart shows hourly consultancy rate of 10 people.\n",
    "Calculate the standard deviation of the salaries of the 10 employees.\n",
    "\n",
    "Salary    employee count\n",
    "25             3\n",
    "40             2\n",
    "35             1\n",
    "50             4\n",
    "\n",
    "Manual\n",
    "List= 25 25 25 40 40 35 50 50 50 50 \n",
    "Mean= 39\n",
    "variance= ((25-39)′2 *3+ (40-39)′2 *2+(35-39)′2+(50-39)′2 *4)/9\n",
    "                       (196*3+1*2+16+121*4)/9= 121,111111111\n",
    "standard deviation=11,005049346\n"
   ]
  },
  {
   "cell_type": "code",
   "execution_count": 51,
   "metadata": {},
   "outputs": [
    {
     "name": "stdout",
     "output_type": "stream",
     "text": [
      "with ddof: 11.00504934614612\n"
     ]
    }
   ],
   "source": [
    "#9\n",
    "\n",
    "arr_np=np.array([25, 25, 25, 40, 40, 35, 50, 50, 50, 50 ])\n",
    "  \n",
    "arr_sd=np.std(arr_np, ddof=1)  \n",
    "\n",
    "print('with ddof:',arr_sd)"
   ]
  },
  {
   "cell_type": "markdown",
   "metadata": {},
   "source": [
    "Exercise 10 (no Numpy)\n",
    "\n",
    "Which of the following random variables is discrete?\n",
    "\n",
    "A) the length of time a battery lasts\n",
    "\n",
    "B) the number of pens purchased by a student in a year\n",
    "\n",
    "C) the percentage of cows in a cattle firm that have been vaccinated\n",
    "\n",
    "D) the distance between a pair of towns\n",
    "\n",
    "Answer: B, C\n",
    "\n",
    "\n"
   ]
  },
  {
   "cell_type": "code",
   "execution_count": null,
   "metadata": {},
   "outputs": [],
   "source": []
  },
  {
   "cell_type": "markdown",
   "metadata": {},
   "source": [
    "Exercise 11 (no Numpy)\n",
    "Which of the below normal distributions will have the greatest spread?\n",
    "\n",
    "A) mu=5, sigma =1.5\n",
    "B) mu=10, sigma =1.0\n",
    "C) mu=5, sigma =1.65\n",
    "D) mu=8, sigma =1.2\n",
    "E) mu=10, sigma =1.6\n",
    "\n",
    "Answer: mu is mean? simgma is SD? If so, the one with the biggest SD, that is C"
   ]
  }
 ],
 "metadata": {
  "kernelspec": {
   "display_name": "base",
   "language": "python",
   "name": "python3"
  },
  "language_info": {
   "codemirror_mode": {
    "name": "ipython",
    "version": 3
   },
   "file_extension": ".py",
   "mimetype": "text/x-python",
   "name": "python",
   "nbconvert_exporter": "python",
   "pygments_lexer": "ipython3",
   "version": "3.11.5"
  }
 },
 "nbformat": 4,
 "nbformat_minor": 2
}
