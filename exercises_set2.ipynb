{
 "cells": [
  {
   "cell_type": "code",
   "execution_count": 9,
   "metadata": {},
   "outputs": [
    {
     "name": "stdout",
     "output_type": "stream",
     "text": [
      "[('a', 5), ('b', 2), ('r', 2), ('c', 1), ('d', 1)]\n"
     ]
    }
   ],
   "source": [
    "#Set2\n",
    "#1 Count the number of occurrences of each character and return it as a list of tuples in order of appearance.\n",
    "\n",
    "wort='abracadabra'\n",
    "\n",
    "def letter_count(str):\n",
    "    '''count letters and return in order in tulip'''\n",
    "    uniq_list=[]\n",
    "    for i in str:\n",
    "        if[item for item in uniq_list if item[0] == i]:\n",
    "            continue\n",
    "        else:\n",
    "            letters=str.count(i)\n",
    "            uniq_list.append((i,letters))\n",
    "    print(uniq_list)\n",
    "            \n",
    "  \n",
    "      \n",
    "       \n",
    "\n",
    "letter_count(wort)\n"
   ]
  },
  {
   "cell_type": "code",
   "execution_count": 43,
   "metadata": {},
   "outputs": [
    {
     "name": "stdout",
     "output_type": "stream",
     "text": [
      "True\n",
      "True\n",
      "False\n"
     ]
    }
   ],
   "source": [
    "#2\n",
    "\n",
    "def is_narcissistic(num):\n",
    "    '''is it a narcistic number?'''\n",
    "    arr=list(map(int, str(num)))\n",
    "    l=len(arr)\n",
    "    sum=0\n",
    "    for i in arr:\n",
    "        sum=sum+i**l\n",
    "    print(sum==num)\n",
    "\n",
    "is_narcissistic(153)\n",
    "is_narcissistic(1634)\n",
    "is_narcissistic(23)\n"
   ]
  },
  {
   "cell_type": "code",
   "execution_count": 7,
   "metadata": {},
   "outputs": [
    {
     "name": "stdout",
     "output_type": "stream",
     "text": [
      "True\n",
      "False\n"
     ]
    }
   ],
   "source": [
    "#3\n",
    "\n",
    "def is_pangram(str):\n",
    "    arr=list(str.lower())\n",
    "    abc=['a','b','c','d','e','f','g','h','i','j','k','l','m','n','o','p','q','r','s','t','u','v','w','x','y','z']\n",
    "    filtered=list(filter(lambda i:i in abc, arr))\n",
    "    print(len(set(abc)-set(filtered))==0)\n",
    "\n",
    "    \n",
    "    \n",
    "\n",
    "\n",
    "is_pangram('The quick brown fox jumps over the lazy dog')\n",
    "is_pangram('This is not a pangram')"
   ]
  },
  {
   "cell_type": "code",
   "execution_count": 8,
   "metadata": {},
   "outputs": [
    {
     "name": "stdout",
     "output_type": "stream",
     "text": [
      "False\n",
      "False\n",
      "False\n",
      "False\n",
      "True\n"
     ]
    }
   ],
   "source": [
    "#4\n",
    "\n",
    "def cartesia(arr):\n",
    "    l=len(arr)\n",
    "    n=arr.count('n')\n",
    "    w=arr.count('w')\n",
    "    s=arr.count('s')\n",
    "    e=arr.count('e')\n",
    "    \n",
    "    print((l==10)and (w==e)and(s==n))\n",
    "    \n",
    "\n",
    "cartesia(['n', 'e', 'e', 'n', 'e', 'w', 'n', 'n', 's', 'e'] )\n",
    "cartesia(['e', 'n', 'w', 'e', 'e', 's', 'n', 's', 'e', 'n', 'n', 's', 'n', 'e', 'w', 'n', 'n', 'n', 's'])\n",
    "cartesia(['s', 'e', 's', 'n', 's', 's', 's', 'w', 'e', 'e', 'e', 'w', 's'])\n",
    "cartesia(['e', 'w', 'e', 'n', 's'])\n",
    "cartesia(['s', 'e', 'w', 'n', 'n', 's', 'e', 'w', 'n', 's'])\n"
   ]
  }
 ],
 "metadata": {
  "kernelspec": {
   "display_name": "base",
   "language": "python",
   "name": "python3"
  },
  "language_info": {
   "codemirror_mode": {
    "name": "ipython",
    "version": 3
   },
   "file_extension": ".py",
   "mimetype": "text/x-python",
   "name": "python",
   "nbconvert_exporter": "python",
   "pygments_lexer": "ipython3",
   "version": "3.11.5"
  }
 },
 "nbformat": 4,
 "nbformat_minor": 2
}
